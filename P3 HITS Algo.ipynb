{
 "cells": [
  {
   "cell_type": "code",
   "execution_count": 2,
   "id": "688262b4",
   "metadata": {},
   "outputs": [],
   "source": [
    "#PRAC3\n",
    "#HITS Algorithm\n",
    "import networkx as nx"
   ]
  },
  {
   "cell_type": "code",
   "execution_count": 4,
   "id": "259d5006",
   "metadata": {},
   "outputs": [],
   "source": [
    "#2: Create a graph and add edges\n",
    "G = nx.DiGraph()"
   ]
  },
  {
   "cell_type": "code",
   "execution_count": 5,
   "id": "c6deabec",
   "metadata": {},
   "outputs": [],
   "source": [
    "G.add_edges_from([(1, 2), (1, 3), (2, 4), (3, 4), (4, 5)])"
   ]
  },
  {
   "cell_type": "code",
   "execution_count": 8,
   "id": "49694f3d",
   "metadata": {},
   "outputs": [],
   "source": [
    "#3: Calculate the HITS scores\n",
    "authority_scores, hub_scores = nx.hits(G)"
   ]
  },
  {
   "cell_type": "code",
   "execution_count": 9,
   "id": "31b022a7",
   "metadata": {},
   "outputs": [
    {
     "name": "stdout",
     "output_type": "stream",
     "text": [
      "Authority Scores: {1: 0.9308493107467511, 2: 0.034575344626624455, 3: 0.034575344626624455, 4: -1.240182114257068e-16, 5: -0.0}\n",
      "Hub Scores: {1: -0.0, 2: 0.4820931936872627, 3: 0.4820931936872627, 4: 0.03581361262547467, 5: -1.284597516082113e-16}\n"
     ]
    }
   ],
   "source": [
    "#4: Print the scores\n",
    "print(\"Authority Scores:\", authority_scores)\n",
    "print(\"Hub Scores:\", hub_scores)"
   ]
  }
 ],
 "metadata": {
  "kernelspec": {
   "display_name": "Python 3 (ipykernel)",
   "language": "python",
   "name": "python3"
  },
  "language_info": {
   "codemirror_mode": {
    "name": "ipython",
    "version": 3
   },
   "file_extension": ".py",
   "mimetype": "text/x-python",
   "name": "python",
   "nbconvert_exporter": "python",
   "pygments_lexer": "ipython3",
   "version": "3.11.5"
  }
 },
 "nbformat": 4,
 "nbformat_minor": 5
}
