{
 "cells": [
  {
   "cell_type": "code",
   "execution_count": 9,
   "id": "c963c73a",
   "metadata": {},
   "outputs": [],
   "source": [
    "import nltk\n",
    "from nltk.sentiment import SentimentIntensityAnalyzer\n",
    "#Sample opinions\n",
    "opinions={\n",
    "    \"I love this product!\",\n",
    "    \"The service was terrible\",\n",
    "    \"The customer support team was ver helpful\"\n",
    "}\n",
    "#Function to perform sentiment analysis\n",
    "def analyze_sentiment(text):\n",
    "    sia=SentimentIntensityAnalyzer()\n",
    "    sentiment_score=sia.polarity_scores(text)['compound']\n",
    "    \n",
    "    if sentiment_score>=0.05:\n",
    "        return \"positive\"\n",
    "    elif sentiment_score<=0.05:\n",
    "        return \"negative\"\n",
    "    else:\n",
    "        return \"neutral\"\n",
    "    \n",
    "    def retrieve_opinions(sentiment):\n",
    "        matching_opinions=[opinion for opinion in opinions if analyze_sentiment(opinion) == sentiment]\n",
    "        return matching_opinions\n",
    "    \n",
    "    if __name__ == \"__main__\":\n",
    "        #Exmapl:Retrieve positive opinions\n",
    "        positive_opinions=retrieve_opinions(\"positvie\")\n",
    "        \n",
    "        print(\"Positvie opinions\")\n",
    "        for opinion in positive_opinions:\n",
    "            print(f\" -{opinion}\")\n",
    "        \n",
    "        negative_opinions=retrieve_opinions(\"negative\")\n",
    "        \n",
    "        print (\"\\nNegative opinions\")\n",
    "        for opinion in negative_opinions:\n",
    "            print(f\" -{opinion}\")\n",
    "            "
   ]
  },
  {
   "cell_type": "code",
   "execution_count": null,
   "id": "053fdbaa",
   "metadata": {},
   "outputs": [],
   "source": []
  },
  {
   "cell_type": "code",
   "execution_count": null,
   "id": "5bfb074a",
   "metadata": {},
   "outputs": [],
   "source": []
  }
 ],
 "metadata": {
  "kernelspec": {
   "display_name": "Python 3 (ipykernel)",
   "language": "python",
   "name": "python3"
  },
  "language_info": {
   "codemirror_mode": {
    "name": "ipython",
    "version": 3
   },
   "file_extension": ".py",
   "mimetype": "text/x-python",
   "name": "python",
   "nbconvert_exporter": "python",
   "pygments_lexer": "ipython3",
   "version": "3.10.9"
  }
 },
 "nbformat": 4,
 "nbformat_minor": 5
}
