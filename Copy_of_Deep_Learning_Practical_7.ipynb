{
  "nbformat": 4,
  "nbformat_minor": 0,
  "metadata": {
    "colab": {
      "provenance": [],
      "gpuType": "T4"
    },
    "kernelspec": {
      "name": "python3",
      "display_name": "Python 3"
    },
    "language_info": {
      "name": "python"
    },
    "accelerator": "GPU"
  },
  "cells": [
    {
      "cell_type": "markdown",
      "source": [
        "## Movie Review Text classification using LSTM"
      ],
      "metadata": {
        "id": "CPEnmGCQtM9f"
      }
    },
    {
      "cell_type": "code",
      "source": [],
      "metadata": {
        "id": "-D3iN-67uCt2"
      },
      "execution_count": null,
      "outputs": []
    },
    {
      "cell_type": "code",
      "execution_count": null,
      "metadata": {
        "id": "c1PmMtDftLdr"
      },
      "outputs": [],
      "source": [
        "import numpy as np\n",
        "from keras.models import Sequential\n",
        "from keras.preprocessing import sequence\n",
        "from keras.layers import Dropout\n",
        "from keras.layers import Dense, Embedding, LSTM, Bidirectional\n",
        "from keras.datasets import imdb"
      ]
    },
    {
      "cell_type": "code",
      "source": [
        "(x_train, y_train), (x_test, y_test) = imdb.load_data(num_words = 10000)"
      ],
      "metadata": {
        "id": "oupy9EPNt6Qb",
        "colab": {
          "base_uri": "https://localhost:8080/"
        },
        "outputId": "9d0ff01b-9860-431c-b3a0-205f9de4e1d7"
      },
      "execution_count": null,
      "outputs": [
        {
          "output_type": "stream",
          "name": "stdout",
          "text": [
            "Downloading data from https://storage.googleapis.com/tensorflow/tf-keras-datasets/imdb.npz\n",
            "17464789/17464789 [==============================] - 0s 0us/step\n"
          ]
        }
      ]
    },
    {
      "cell_type": "markdown",
      "source": [
        "Feature Extraction\n",
        "\n",
        "Since we have text data in x_train and x_test of having an uneven length. Our goal is to convert this text data into a numerical form in order to feed it into the model.\n",
        "\n",
        "Make the length of texts equal using padding.\n",
        "\n",
        "We are defining max_len = 200. If a sentence is having a length greater than 200 it will be trimmed off otherwise it will be padded by 0."
      ],
      "metadata": {
        "id": "TpjobJrAT-Ku"
      }
    },
    {
      "cell_type": "code",
      "source": [
        "max_len = 200\n",
        "x_train = sequence.pad_sequences(x_train, maxlen=max_len)\n",
        "x_test = sequence.pad_sequences(x_test, maxlen=max_len)\n",
        "y_train = np.array(y_train)\n",
        "y_test = np.array(y_test)"
      ],
      "metadata": {
        "id": "57PERREsujGl"
      },
      "execution_count": null,
      "outputs": []
    },
    {
      "cell_type": "code",
      "source": [
        "x_train.shape, y_train.shape"
      ],
      "metadata": {
        "colab": {
          "base_uri": "https://localhost:8080/"
        },
        "id": "SoX4syCrvQ-B",
        "outputId": "d6f18a15-4eec-4ed1-ab22-4249518b0d41"
      },
      "execution_count": null,
      "outputs": [
        {
          "output_type": "execute_result",
          "data": {
            "text/plain": [
              "((25000, 200), (25000,))"
            ]
          },
          "metadata": {},
          "execution_count": 4
        }
      ]
    },
    {
      "cell_type": "code",
      "source": [
        "x_test.shape, y_test.shape"
      ],
      "metadata": {
        "colab": {
          "base_uri": "https://localhost:8080/"
        },
        "id": "gaFB5AHIvZEE",
        "outputId": "53a9f28f-53cc-4632-baeb-2a83076c79a4"
      },
      "execution_count": null,
      "outputs": [
        {
          "output_type": "execute_result",
          "data": {
            "text/plain": [
              "((25000, 200), (25000,))"
            ]
          },
          "metadata": {},
          "execution_count": 5
        }
      ]
    },
    {
      "cell_type": "code",
      "source": [
        "n_unique_words = 10000\n",
        "\n",
        "model = Sequential()\n",
        "model.add(Embedding(n_unique_words, 128, input_length = max_len))\n",
        "model.add(Bidirectional(LSTM(64)))\n",
        "model.add(Dropout(0.5))\n",
        "model.add(Dense(1, activation = 'sigmoid'))\n",
        "model.compile(loss='binary_crossentropy', optimizer = 'adam', metrics = ['accuracy'])"
      ],
      "metadata": {
        "id": "ocOcuhupvdoc"
      },
      "execution_count": null,
      "outputs": []
    },
    {
      "cell_type": "markdown",
      "source": [
        "input_length = maxlen Since we have already made all sentences in our dataset have an equal length of 200 using pad_sequence.\n",
        "\n",
        "The Embedding layer takes n_unique_words as the size of the vocabulary in our dataset which we already declared as 10000.\n",
        "\n",
        "After the Embedding layer, we are adding Bi-directional LSTM units. Using sigmoid activation and then compiling the model\n",
        "\n",
        "Training the model\n",
        "\n",
        "We have prepared our dataset and model not calling the fit method to train our model."
      ],
      "metadata": {
        "id": "_MLOD-fYUbto"
      }
    },
    {
      "cell_type": "code",
      "source": [
        "batch_size = 250\n",
        "\n",
        "history = model.fit(x_train, y_train,\n",
        "                    batch_size=batch_size,\n",
        "                    epochs = 12,\n",
        "                    validation_data = [x_test, y_test])\n",
        "print(history.history['loss'])\n",
        "print(history.history['accuracy'])"
      ],
      "metadata": {
        "colab": {
          "base_uri": "https://localhost:8080/"
        },
        "id": "gkFVqmVGw2F4",
        "outputId": "e0444b54-d02c-4aea-9b6a-1bd20d2b078c"
      },
      "execution_count": null,
      "outputs": [
        {
          "output_type": "stream",
          "name": "stdout",
          "text": [
            "Epoch 1/12\n",
            "100/100 [==============================] - 30s 235ms/step - loss: 0.4877 - accuracy: 0.7572 - val_loss: 0.3247 - val_accuracy: 0.8649\n",
            "Epoch 2/12\n",
            "100/100 [==============================] - 10s 104ms/step - loss: 0.2463 - accuracy: 0.9077 - val_loss: 0.3084 - val_accuracy: 0.8724\n",
            "Epoch 3/12\n",
            "100/100 [==============================] - 8s 81ms/step - loss: 0.1767 - accuracy: 0.9368 - val_loss: 0.3355 - val_accuracy: 0.8672\n",
            "Epoch 4/12\n",
            "100/100 [==============================] - 7s 75ms/step - loss: 0.1369 - accuracy: 0.9528 - val_loss: 0.3617 - val_accuracy: 0.8645\n",
            "Epoch 5/12\n",
            "100/100 [==============================] - 7s 66ms/step - loss: 0.1104 - accuracy: 0.9616 - val_loss: 0.5364 - val_accuracy: 0.8492\n",
            "Epoch 6/12\n",
            "100/100 [==============================] - 7s 68ms/step - loss: 0.0881 - accuracy: 0.9707 - val_loss: 0.4831 - val_accuracy: 0.8501\n",
            "Epoch 7/12\n",
            "100/100 [==============================] - 5s 54ms/step - loss: 0.0866 - accuracy: 0.9709 - val_loss: 0.5675 - val_accuracy: 0.8462\n",
            "Epoch 8/12\n",
            "100/100 [==============================] - 5s 52ms/step - loss: 0.0659 - accuracy: 0.9791 - val_loss: 0.5566 - val_accuracy: 0.8526\n",
            "Epoch 9/12\n",
            "100/100 [==============================] - 4s 42ms/step - loss: 0.0789 - accuracy: 0.9726 - val_loss: 0.5381 - val_accuracy: 0.8504\n",
            "Epoch 10/12\n",
            "100/100 [==============================] - 4s 45ms/step - loss: 0.0656 - accuracy: 0.9779 - val_loss: 0.6219 - val_accuracy: 0.8506\n",
            "Epoch 11/12\n",
            "100/100 [==============================] - 5s 47ms/step - loss: 0.0523 - accuracy: 0.9832 - val_loss: 0.5812 - val_accuracy: 0.8514\n",
            "Epoch 12/12\n",
            "100/100 [==============================] - 4s 37ms/step - loss: 0.0376 - accuracy: 0.9886 - val_loss: 0.7483 - val_accuracy: 0.8457\n",
            "[0.4876590669155121, 0.24625755846500397, 0.17673133313655853, 0.13685236871242523, 0.1103653684258461, 0.08811622858047485, 0.08663657307624817, 0.0658634603023529, 0.0788528099656105, 0.06559768319129944, 0.05232802778482437, 0.037585411220788956]\n",
            "[0.7571600079536438, 0.9076799750328064, 0.9367600083351135, 0.9528399705886841, 0.9616400003433228, 0.9706799983978271, 0.9709200263023376, 0.9790800213813782, 0.9725599884986877, 0.9778800010681152, 0.9832000136375427, 0.9886400103569031]\n"
          ]
        }
      ]
    },
    {
      "cell_type": "code",
      "source": [
        "from matplotlib import pyplot as plt\n",
        "plt.plot(history.history['loss'])\n",
        "plt.plot(history.history['accuracy'])\n",
        "plt.title(\"Model Loss vs Accuracy\")\n",
        "plt.xlabel(\"Epoch\")\n",
        "plt.legend(['loss', 'accuracy'], loc = \"upper right\")\n",
        "plt.show()\n"
      ],
      "metadata": {
        "colab": {
          "base_uri": "https://localhost:8080/",
          "height": 472
        },
        "id": "UR-auTMExg8O",
        "outputId": "0c370d02-52af-4260-9195-498d3c8bfc3d"
      },
      "execution_count": null,
      "outputs": [
        {
          "output_type": "display_data",
          "data": {
            "text/plain": [
              "<Figure size 640x480 with 1 Axes>"
            ],
            "image/png": "[encoded data removed]"
          },
          "metadata": {}
        }
      ]
    },
    {
      "cell_type": "code",
      "source": [],
      "metadata": {
        "id": "tyeF2Gd_ziE2"
      },
      "execution_count": null,
      "outputs": []
    }
  ]
}